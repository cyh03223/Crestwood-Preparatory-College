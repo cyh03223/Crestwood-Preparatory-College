{
 "cells": [
  {
   "cell_type": "markdown",
   "metadata": {},
   "source": [
    "# Lesson 6.2 Homework \n",
    "\n",
    "## numPy Practice"
   ]
  },
  {
   "cell_type": "markdown",
   "metadata": {},
   "source": [
    "Create the following ndarrays:\n",
    "<br> 1) an ndarray out of the array, arr, given below called A1\n",
    "<br> 2) a 4 by 4 ndarray made of random numbers from 3 to 15 inclusive\n",
    "<br> 3) a 3 by 2 ndarray of 1s called A3"
   ]
  },
  {
   "cell_type": "code",
   "execution_count": 1,
   "metadata": {},
   "outputs": [
    {
     "name": "stdout",
     "output_type": "stream",
     "text": [
      "[[5 4 3]\n",
      " [1 2 9]]\n",
      "[[ 3  8 14  4]\n",
      " [10  8  7 11]\n",
      " [14  9 15  4]\n",
      " [ 6 14 14 13]]\n",
      "[[1. 1.]\n",
      " [1. 1.]\n",
      " [1. 1.]]\n"
     ]
    }
   ],
   "source": [
    "import numpy as np\n",
    "arr = [[5,4,3],[1,2,9]]\n",
    "\n",
    "## 1)\n",
    "A1 = np.array(arr)\n",
    "print(A1)\n",
    "\n",
    "## 2)\n",
    "A2 = np.random.randint(3, 16, (4,4))\n",
    "print(A2)\n",
    "\n",
    "## 3)\n",
    "A3 = np.ones((3,2))\n",
    "print(A3)"
   ]
  },
  {
   "cell_type": "markdown",
   "metadata": {},
   "source": [
    "From A1 above, \n",
    "<br> 1) print the number 4\n",
    "<br> 2) print the second column\n",
    "<br> 3) print the 1st and 3rd column for the second row"
   ]
  },
  {
   "cell_type": "code",
   "execution_count": 2,
   "metadata": {},
   "outputs": [
    {
     "name": "stdout",
     "output_type": "stream",
     "text": [
      "4\n",
      "[4 2]\n",
      "[1 9]\n"
     ]
    }
   ],
   "source": [
    "## 1)\n",
    "print(A1[0,1])\n",
    "\n",
    "## 2)\n",
    "print(A1[:,1])\n",
    "\n",
    "## 3)\n",
    "print(A1[1,[0,2]])"
   ]
  },
  {
   "cell_type": "markdown",
   "metadata": {},
   "source": [
    "## Pandas Practice"
   ]
  },
  {
   "cell_type": "markdown",
   "metadata": {},
   "source": [
    "Pick a Data Set from: https://data.ontario.ca/dataset?res_format=CSV\n",
    "<br> 1) Read in the Data set\n",
    "<br> 2) Output the First 5 rows\n",
    "<br> 3) Output the types of each column\n",
    "<br> 4) Output the mean of one of the numerical columns\n",
    "<br> 5) Create a new column that is a function of another one"
   ]
  },
  {
   "cell_type": "code",
   "execution_count": 9,
   "metadata": {},
   "outputs": [],
   "source": [
    "## 1)\n",
    "import pandas as pd\n",
    "data = pd.read_csv('https://data.ontario.ca/dataset/c4022f0f-6f3d-4e16-bd28-5312333a4bac/resource/d0d6ccc7-fc60-4a18-ac96-7f9493e9f10e/download/inmatetesting.csv')"
   ]
  },
  {
   "cell_type": "code",
   "execution_count": 10,
   "metadata": {},
   "outputs": [
    {
     "data": {
      "text/html": [
       "<div>\n",
       "<style scoped>\n",
       "    .dataframe tbody tr th:only-of-type {\n",
       "        vertical-align: middle;\n",
       "    }\n",
       "\n",
       "    .dataframe tbody tr th {\n",
       "        vertical-align: top;\n",
       "    }\n",
       "\n",
       "    .dataframe thead th {\n",
       "        text-align: right;\n",
       "    }\n",
       "</style>\n",
       "<table border=\"1\" class=\"dataframe\">\n",
       "  <thead>\n",
       "    <tr style=\"text-align: right;\">\n",
       "      <th></th>\n",
       "      <th>Reported_Date</th>\n",
       "      <th>Region</th>\n",
       "      <th>Cumulative_Number_of_Tests_as_of_Reported_Date</th>\n",
       "      <th>Cumulative_Number_of_Positive_Tests_as_of_Reported_Date</th>\n",
       "      <th>Cumulative_Number_of_Negative_Tests_as_of_Reported_Date</th>\n",
       "      <th>Total_Number_of_Pending_Tests_on_Reported_Date</th>\n",
       "      <th>Total_Number_of_Unknown_Tests_on_Reported_Date</th>\n",
       "      <th>Total_Inmates_that_Refused_Swab_as_of_Reported_Date</th>\n",
       "      <th>Total_Inmates_on_Medical_Isolation_as_of_Reported_Date</th>\n",
       "    </tr>\n",
       "  </thead>\n",
       "  <tbody>\n",
       "    <tr>\n",
       "      <th>0</th>\n",
       "      <td>2020-05-08</td>\n",
       "      <td>Central</td>\n",
       "      <td>330</td>\n",
       "      <td>153</td>\n",
       "      <td>140</td>\n",
       "      <td>30</td>\n",
       "      <td>7</td>\n",
       "      <td>NaN</td>\n",
       "      <td>222</td>\n",
       "    </tr>\n",
       "    <tr>\n",
       "      <th>1</th>\n",
       "      <td>2020-05-08</td>\n",
       "      <td>Eastern</td>\n",
       "      <td>84</td>\n",
       "      <td>1</td>\n",
       "      <td>76</td>\n",
       "      <td>7</td>\n",
       "      <td>0</td>\n",
       "      <td>NaN</td>\n",
       "      <td>63</td>\n",
       "    </tr>\n",
       "    <tr>\n",
       "      <th>2</th>\n",
       "      <td>2020-05-08</td>\n",
       "      <td>Northern</td>\n",
       "      <td>72</td>\n",
       "      <td>2</td>\n",
       "      <td>63</td>\n",
       "      <td>4</td>\n",
       "      <td>3</td>\n",
       "      <td>NaN</td>\n",
       "      <td>9</td>\n",
       "    </tr>\n",
       "    <tr>\n",
       "      <th>3</th>\n",
       "      <td>2020-05-08</td>\n",
       "      <td>Toronto</td>\n",
       "      <td>109</td>\n",
       "      <td>7</td>\n",
       "      <td>90</td>\n",
       "      <td>10</td>\n",
       "      <td>2</td>\n",
       "      <td>NaN</td>\n",
       "      <td>70</td>\n",
       "    </tr>\n",
       "    <tr>\n",
       "      <th>4</th>\n",
       "      <td>2020-05-08</td>\n",
       "      <td>Western</td>\n",
       "      <td>82</td>\n",
       "      <td>0</td>\n",
       "      <td>62</td>\n",
       "      <td>17</td>\n",
       "      <td>3</td>\n",
       "      <td>NaN</td>\n",
       "      <td>64</td>\n",
       "    </tr>\n",
       "  </tbody>\n",
       "</table>\n",
       "</div>"
      ],
      "text/plain": [
       "  Reported_Date    Region  Cumulative_Number_of_Tests_as_of_Reported_Date  \\\n",
       "0    2020-05-08   Central                                             330   \n",
       "1    2020-05-08   Eastern                                              84   \n",
       "2    2020-05-08  Northern                                              72   \n",
       "3    2020-05-08   Toronto                                             109   \n",
       "4    2020-05-08   Western                                              82   \n",
       "\n",
       "   Cumulative_Number_of_Positive_Tests_as_of_Reported_Date  \\\n",
       "0                                                153         \n",
       "1                                                  1         \n",
       "2                                                  2         \n",
       "3                                                  7         \n",
       "4                                                  0         \n",
       "\n",
       "   Cumulative_Number_of_Negative_Tests_as_of_Reported_Date  \\\n",
       "0                                                140         \n",
       "1                                                 76         \n",
       "2                                                 63         \n",
       "3                                                 90         \n",
       "4                                                 62         \n",
       "\n",
       "   Total_Number_of_Pending_Tests_on_Reported_Date  \\\n",
       "0                                              30   \n",
       "1                                               7   \n",
       "2                                               4   \n",
       "3                                              10   \n",
       "4                                              17   \n",
       "\n",
       "   Total_Number_of_Unknown_Tests_on_Reported_Date  \\\n",
       "0                                               7   \n",
       "1                                               0   \n",
       "2                                               3   \n",
       "3                                               2   \n",
       "4                                               3   \n",
       "\n",
       "   Total_Inmates_that_Refused_Swab_as_of_Reported_Date  \\\n",
       "0                                                NaN     \n",
       "1                                                NaN     \n",
       "2                                                NaN     \n",
       "3                                                NaN     \n",
       "4                                                NaN     \n",
       "\n",
       "   Total_Inmates_on_Medical_Isolation_as_of_Reported_Date  \n",
       "0                                                222       \n",
       "1                                                 63       \n",
       "2                                                  9       \n",
       "3                                                 70       \n",
       "4                                                 64       "
      ]
     },
     "execution_count": 10,
     "metadata": {},
     "output_type": "execute_result"
    }
   ],
   "source": [
    "## 2)\n",
    "data.head()"
   ]
  },
  {
   "cell_type": "code",
   "execution_count": 11,
   "metadata": {},
   "outputs": [
    {
     "data": {
      "text/plain": [
       "Reported_Date                                               object\n",
       "Region                                                      object\n",
       "Cumulative_Number_of_Tests_as_of_Reported_Date               int64\n",
       "Cumulative_Number_of_Positive_Tests_as_of_Reported_Date      int64\n",
       "Cumulative_Number_of_Negative_Tests_as_of_Reported_Date      int64\n",
       "Total_Number_of_Pending_Tests_on_Reported_Date               int64\n",
       "Total_Number_of_Unknown_Tests_on_Reported_Date               int64\n",
       "Total_Inmates_that_Refused_Swab_as_of_Reported_Date        float64\n",
       "Total_Inmates_on_Medical_Isolation_as_of_Reported_Date       int64\n",
       "dtype: object"
      ]
     },
     "execution_count": 11,
     "metadata": {},
     "output_type": "execute_result"
    }
   ],
   "source": [
    "## 3)\n",
    "data.dtypes"
   ]
  },
  {
   "cell_type": "code",
   "execution_count": 13,
   "metadata": {},
   "outputs": [
    {
     "data": {
      "text/plain": [
       "74.40966183574879"
      ]
     },
     "execution_count": 13,
     "metadata": {},
     "output_type": "execute_result"
    }
   ],
   "source": [
    "## 4)\n",
    "data[\"Total_Inmates_on_Medical_Isolation_as_of_Reported_Date\"].mean()"
   ]
  },
  {
   "cell_type": "code",
   "execution_count": 14,
   "metadata": {},
   "outputs": [
    {
     "data": {
      "text/html": [
       "<div>\n",
       "<style scoped>\n",
       "    .dataframe tbody tr th:only-of-type {\n",
       "        vertical-align: middle;\n",
       "    }\n",
       "\n",
       "    .dataframe tbody tr th {\n",
       "        vertical-align: top;\n",
       "    }\n",
       "\n",
       "    .dataframe thead th {\n",
       "        text-align: right;\n",
       "    }\n",
       "</style>\n",
       "<table border=\"1\" class=\"dataframe\">\n",
       "  <thead>\n",
       "    <tr style=\"text-align: right;\">\n",
       "      <th></th>\n",
       "      <th>Reported_Date</th>\n",
       "      <th>Region</th>\n",
       "      <th>Cumulative_Number_of_Tests_as_of_Reported_Date</th>\n",
       "      <th>Cumulative_Number_of_Positive_Tests_as_of_Reported_Date</th>\n",
       "      <th>Cumulative_Number_of_Negative_Tests_as_of_Reported_Date</th>\n",
       "      <th>Total_Number_of_Pending_Tests_on_Reported_Date</th>\n",
       "      <th>Total_Number_of_Unknown_Tests_on_Reported_Date</th>\n",
       "      <th>Total_Inmates_that_Refused_Swab_as_of_Reported_Date</th>\n",
       "      <th>Total_Inmates_on_Medical_Isolation_as_of_Reported_Date</th>\n",
       "      <th>Percent_Pos</th>\n",
       "    </tr>\n",
       "  </thead>\n",
       "  <tbody>\n",
       "    <tr>\n",
       "      <th>1030</th>\n",
       "      <td>2021-03-11</td>\n",
       "      <td>Central</td>\n",
       "      <td>6213</td>\n",
       "      <td>503</td>\n",
       "      <td>5469</td>\n",
       "      <td>137</td>\n",
       "      <td>104</td>\n",
       "      <td>940.0</td>\n",
       "      <td>284</td>\n",
       "      <td>28400</td>\n",
       "    </tr>\n",
       "    <tr>\n",
       "      <th>1031</th>\n",
       "      <td>2021-03-11</td>\n",
       "      <td>Eastern</td>\n",
       "      <td>6199</td>\n",
       "      <td>40</td>\n",
       "      <td>6023</td>\n",
       "      <td>102</td>\n",
       "      <td>34</td>\n",
       "      <td>1141.0</td>\n",
       "      <td>134</td>\n",
       "      <td>13400</td>\n",
       "    </tr>\n",
       "    <tr>\n",
       "      <th>1032</th>\n",
       "      <td>2021-03-11</td>\n",
       "      <td>Northern</td>\n",
       "      <td>3877</td>\n",
       "      <td>149</td>\n",
       "      <td>3596</td>\n",
       "      <td>93</td>\n",
       "      <td>39</td>\n",
       "      <td>799.0</td>\n",
       "      <td>113</td>\n",
       "      <td>11300</td>\n",
       "    </tr>\n",
       "    <tr>\n",
       "      <th>1033</th>\n",
       "      <td>2021-03-11</td>\n",
       "      <td>Toronto</td>\n",
       "      <td>2899</td>\n",
       "      <td>224</td>\n",
       "      <td>2553</td>\n",
       "      <td>91</td>\n",
       "      <td>31</td>\n",
       "      <td>2657.0</td>\n",
       "      <td>80</td>\n",
       "      <td>8000</td>\n",
       "    </tr>\n",
       "    <tr>\n",
       "      <th>1034</th>\n",
       "      <td>2021-03-11</td>\n",
       "      <td>Western</td>\n",
       "      <td>5046</td>\n",
       "      <td>165</td>\n",
       "      <td>4568</td>\n",
       "      <td>245</td>\n",
       "      <td>68</td>\n",
       "      <td>1380.0</td>\n",
       "      <td>340</td>\n",
       "      <td>34000</td>\n",
       "    </tr>\n",
       "  </tbody>\n",
       "</table>\n",
       "</div>"
      ],
      "text/plain": [
       "     Reported_Date    Region  Cumulative_Number_of_Tests_as_of_Reported_Date  \\\n",
       "1030    2021-03-11   Central                                            6213   \n",
       "1031    2021-03-11   Eastern                                            6199   \n",
       "1032    2021-03-11  Northern                                            3877   \n",
       "1033    2021-03-11   Toronto                                            2899   \n",
       "1034    2021-03-11   Western                                            5046   \n",
       "\n",
       "      Cumulative_Number_of_Positive_Tests_as_of_Reported_Date  \\\n",
       "1030                                                503         \n",
       "1031                                                 40         \n",
       "1032                                                149         \n",
       "1033                                                224         \n",
       "1034                                                165         \n",
       "\n",
       "      Cumulative_Number_of_Negative_Tests_as_of_Reported_Date  \\\n",
       "1030                                               5469         \n",
       "1031                                               6023         \n",
       "1032                                               3596         \n",
       "1033                                               2553         \n",
       "1034                                               4568         \n",
       "\n",
       "      Total_Number_of_Pending_Tests_on_Reported_Date  \\\n",
       "1030                                             137   \n",
       "1031                                             102   \n",
       "1032                                              93   \n",
       "1033                                              91   \n",
       "1034                                             245   \n",
       "\n",
       "      Total_Number_of_Unknown_Tests_on_Reported_Date  \\\n",
       "1030                                             104   \n",
       "1031                                              34   \n",
       "1032                                              39   \n",
       "1033                                              31   \n",
       "1034                                              68   \n",
       "\n",
       "      Total_Inmates_that_Refused_Swab_as_of_Reported_Date  \\\n",
       "1030                                              940.0     \n",
       "1031                                             1141.0     \n",
       "1032                                              799.0     \n",
       "1033                                             2657.0     \n",
       "1034                                             1380.0     \n",
       "\n",
       "      Total_Inmates_on_Medical_Isolation_as_of_Reported_Date  Percent_Pos  \n",
       "1030                                                284             28400  \n",
       "1031                                                134             13400  \n",
       "1032                                                113             11300  \n",
       "1033                                                 80              8000  \n",
       "1034                                                340             34000  "
      ]
     },
     "execution_count": 14,
     "metadata": {},
     "output_type": "execute_result"
    }
   ],
   "source": [
    "## 5)\n",
    "data[\"Percent_Pos\"] = data[\"Total_Inmates_on_Medical_Isolation_as_of_Reported_Date\"]*100\n",
    "data.tail()"
   ]
  },
  {
   "cell_type": "code",
   "execution_count": null,
   "metadata": {},
   "outputs": [],
   "source": []
  }
 ],
 "metadata": {
  "kernelspec": {
   "display_name": "Python 3",
   "language": "python",
   "name": "python3"
  },
  "language_info": {
   "codemirror_mode": {
    "name": "ipython",
    "version": 3
   },
   "file_extension": ".py",
   "mimetype": "text/x-python",
   "name": "python",
   "nbconvert_exporter": "python",
   "pygments_lexer": "ipython3",
   "version": "3.8.5"
  },
  "toc": {
   "nav_menu": {
    "height": "30px",
    "width": "252px"
   },
   "number_sections": true,
   "sideBar": true,
   "skip_h1_title": false,
   "toc_cell": false,
   "toc_position": {},
   "toc_section_display": "block",
   "toc_window_display": false
  }
 },
 "nbformat": 4,
 "nbformat_minor": 2
}
