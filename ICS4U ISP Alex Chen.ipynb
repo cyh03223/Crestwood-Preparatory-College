{
 "cells": [
  {
   "cell_type": "markdown",
   "metadata": {},
   "source": [
    "# ICS4U ISP Alex Chen"
   ]
  },
  {
   "cell_type": "markdown",
   "metadata": {},
   "source": [
    "## Machine learning-based prediction of COVID-19 curve in Canada"
   ]
  },
  {
   "cell_type": "markdown",
   "metadata": {},
   "source": [
    "### Part A"
   ]
  },
  {
   "cell_type": "markdown",
   "metadata": {},
   "source": [
    "**1. Read in the cvs dataset as \"data\".**"
   ]
  },
  {
   "cell_type": "markdown",
   "metadata": {},
   "source": [
    "In this case, I print the head five lines and the tail five lines of the dataset to test my code."
   ]
  },
  {
   "cell_type": "code",
   "execution_count": 114,
   "metadata": {},
   "outputs": [
    {
     "data": {
      "text/html": [
       "<div>\n",
       "<style scoped>\n",
       "    .dataframe tbody tr th:only-of-type {\n",
       "        vertical-align: middle;\n",
       "    }\n",
       "\n",
       "    .dataframe tbody tr th {\n",
       "        vertical-align: top;\n",
       "    }\n",
       "\n",
       "    .dataframe thead th {\n",
       "        text-align: right;\n",
       "    }\n",
       "</style>\n",
       "<table border=\"1\" class=\"dataframe\">\n",
       "  <thead>\n",
       "    <tr style=\"text-align: right;\">\n",
       "      <th></th>\n",
       "      <th>Reported Date</th>\n",
       "      <th>Confirmed Negative</th>\n",
       "      <th>Presumptive Negative</th>\n",
       "      <th>Presumptive Positive</th>\n",
       "      <th>Confirmed Positive</th>\n",
       "      <th>Resolved</th>\n",
       "      <th>Deaths</th>\n",
       "      <th>Total Cases</th>\n",
       "      <th>Total patients approved for testing as of Reporting Date</th>\n",
       "      <th>Total tests completed in the last day</th>\n",
       "      <th>...</th>\n",
       "      <th>Num. of patients in ICU on a ventilator testing positive</th>\n",
       "      <th>Num. of patients in ICU on a ventilator testing negative</th>\n",
       "      <th>Total Positive LTC Resident Cases</th>\n",
       "      <th>Total Positive LTC HCW Cases</th>\n",
       "      <th>Total LTC Resident Deaths</th>\n",
       "      <th>Total LTC HCW Deaths</th>\n",
       "      <th>Total_Lineage_B.1.1.7</th>\n",
       "      <th>Total_Lineage_B.1.351</th>\n",
       "      <th>Total_Lineage_P.1</th>\n",
       "      <th>Date</th>\n",
       "    </tr>\n",
       "  </thead>\n",
       "  <tbody>\n",
       "    <tr>\n",
       "      <th>0</th>\n",
       "      <td>2020/1/26</td>\n",
       "      <td>NaN</td>\n",
       "      <td>NaN</td>\n",
       "      <td>1.0</td>\n",
       "      <td>0</td>\n",
       "      <td>NaN</td>\n",
       "      <td>0</td>\n",
       "      <td>0</td>\n",
       "      <td>NaN</td>\n",
       "      <td>NaN</td>\n",
       "      <td>...</td>\n",
       "      <td>NaN</td>\n",
       "      <td>NaN</td>\n",
       "      <td>NaN</td>\n",
       "      <td>NaN</td>\n",
       "      <td>NaN</td>\n",
       "      <td>NaN</td>\n",
       "      <td>NaN</td>\n",
       "      <td>NaN</td>\n",
       "      <td>NaN</td>\n",
       "      <td>1</td>\n",
       "    </tr>\n",
       "    <tr>\n",
       "      <th>1</th>\n",
       "      <td>2020/1/27</td>\n",
       "      <td>NaN</td>\n",
       "      <td>NaN</td>\n",
       "      <td>2.0</td>\n",
       "      <td>0</td>\n",
       "      <td>NaN</td>\n",
       "      <td>0</td>\n",
       "      <td>0</td>\n",
       "      <td>NaN</td>\n",
       "      <td>NaN</td>\n",
       "      <td>...</td>\n",
       "      <td>NaN</td>\n",
       "      <td>NaN</td>\n",
       "      <td>NaN</td>\n",
       "      <td>NaN</td>\n",
       "      <td>NaN</td>\n",
       "      <td>NaN</td>\n",
       "      <td>NaN</td>\n",
       "      <td>NaN</td>\n",
       "      <td>NaN</td>\n",
       "      <td>2</td>\n",
       "    </tr>\n",
       "    <tr>\n",
       "      <th>2</th>\n",
       "      <td>2020/1/28</td>\n",
       "      <td>NaN</td>\n",
       "      <td>NaN</td>\n",
       "      <td>1.0</td>\n",
       "      <td>1</td>\n",
       "      <td>NaN</td>\n",
       "      <td>0</td>\n",
       "      <td>1</td>\n",
       "      <td>NaN</td>\n",
       "      <td>NaN</td>\n",
       "      <td>...</td>\n",
       "      <td>NaN</td>\n",
       "      <td>NaN</td>\n",
       "      <td>NaN</td>\n",
       "      <td>NaN</td>\n",
       "      <td>NaN</td>\n",
       "      <td>NaN</td>\n",
       "      <td>NaN</td>\n",
       "      <td>NaN</td>\n",
       "      <td>NaN</td>\n",
       "      <td>3</td>\n",
       "    </tr>\n",
       "    <tr>\n",
       "      <th>3</th>\n",
       "      <td>2020/1/30</td>\n",
       "      <td>NaN</td>\n",
       "      <td>NaN</td>\n",
       "      <td>0.0</td>\n",
       "      <td>2</td>\n",
       "      <td>NaN</td>\n",
       "      <td>0</td>\n",
       "      <td>2</td>\n",
       "      <td>NaN</td>\n",
       "      <td>NaN</td>\n",
       "      <td>...</td>\n",
       "      <td>NaN</td>\n",
       "      <td>NaN</td>\n",
       "      <td>NaN</td>\n",
       "      <td>NaN</td>\n",
       "      <td>NaN</td>\n",
       "      <td>NaN</td>\n",
       "      <td>NaN</td>\n",
       "      <td>NaN</td>\n",
       "      <td>NaN</td>\n",
       "      <td>4</td>\n",
       "    </tr>\n",
       "    <tr>\n",
       "      <th>4</th>\n",
       "      <td>2020/1/31</td>\n",
       "      <td>NaN</td>\n",
       "      <td>NaN</td>\n",
       "      <td>0.0</td>\n",
       "      <td>2</td>\n",
       "      <td>NaN</td>\n",
       "      <td>0</td>\n",
       "      <td>2</td>\n",
       "      <td>NaN</td>\n",
       "      <td>NaN</td>\n",
       "      <td>...</td>\n",
       "      <td>NaN</td>\n",
       "      <td>NaN</td>\n",
       "      <td>NaN</td>\n",
       "      <td>NaN</td>\n",
       "      <td>NaN</td>\n",
       "      <td>NaN</td>\n",
       "      <td>NaN</td>\n",
       "      <td>NaN</td>\n",
       "      <td>NaN</td>\n",
       "      <td>5</td>\n",
       "    </tr>\n",
       "  </tbody>\n",
       "</table>\n",
       "<p>5 rows × 27 columns</p>\n",
       "</div>"
      ],
      "text/plain": [
       "  Reported Date  Confirmed Negative  Presumptive Negative  \\\n",
       "0     2020/1/26                 NaN                   NaN   \n",
       "1     2020/1/27                 NaN                   NaN   \n",
       "2     2020/1/28                 NaN                   NaN   \n",
       "3     2020/1/30                 NaN                   NaN   \n",
       "4     2020/1/31                 NaN                   NaN   \n",
       "\n",
       "   Presumptive Positive  Confirmed Positive  Resolved  Deaths  Total Cases  \\\n",
       "0                   1.0                   0       NaN       0            0   \n",
       "1                   2.0                   0       NaN       0            0   \n",
       "2                   1.0                   1       NaN       0            1   \n",
       "3                   0.0                   2       NaN       0            2   \n",
       "4                   0.0                   2       NaN       0            2   \n",
       "\n",
       "   Total patients approved for testing as of Reporting Date  \\\n",
       "0                                                NaN          \n",
       "1                                                NaN          \n",
       "2                                                NaN          \n",
       "3                                                NaN          \n",
       "4                                                NaN          \n",
       "\n",
       "   Total tests completed in the last day  ...  \\\n",
       "0                                    NaN  ...   \n",
       "1                                    NaN  ...   \n",
       "2                                    NaN  ...   \n",
       "3                                    NaN  ...   \n",
       "4                                    NaN  ...   \n",
       "\n",
       "   Num. of patients in ICU on a ventilator testing positive  \\\n",
       "0                                                NaN          \n",
       "1                                                NaN          \n",
       "2                                                NaN          \n",
       "3                                                NaN          \n",
       "4                                                NaN          \n",
       "\n",
       "   Num. of patients in ICU on a ventilator testing negative  \\\n",
       "0                                                NaN          \n",
       "1                                                NaN          \n",
       "2                                                NaN          \n",
       "3                                                NaN          \n",
       "4                                                NaN          \n",
       "\n",
       "   Total Positive LTC Resident Cases  Total Positive LTC HCW Cases  \\\n",
       "0                                NaN                           NaN   \n",
       "1                                NaN                           NaN   \n",
       "2                                NaN                           NaN   \n",
       "3                                NaN                           NaN   \n",
       "4                                NaN                           NaN   \n",
       "\n",
       "   Total LTC Resident Deaths  Total LTC HCW Deaths  Total_Lineage_B.1.1.7  \\\n",
       "0                        NaN                   NaN                    NaN   \n",
       "1                        NaN                   NaN                    NaN   \n",
       "2                        NaN                   NaN                    NaN   \n",
       "3                        NaN                   NaN                    NaN   \n",
       "4                        NaN                   NaN                    NaN   \n",
       "\n",
       "   Total_Lineage_B.1.351  Total_Lineage_P.1  Date  \n",
       "0                    NaN                NaN     1  \n",
       "1                    NaN                NaN     2  \n",
       "2                    NaN                NaN     3  \n",
       "3                    NaN                NaN     4  \n",
       "4                    NaN                NaN     5  \n",
       "\n",
       "[5 rows x 27 columns]"
      ]
     },
     "execution_count": 114,
     "metadata": {},
     "output_type": "execute_result"
    }
   ],
   "source": [
    "# Load the data\n",
    "%matplotlib inline\n",
    "import numpy as np\n",
    "import pandas as pd\n",
    "import matplotlib.pyplot as plt\n",
    "from scipy.optimize import curve_fit\n",
    "\n",
    "data = pd.read_csv(\"covidtesting.csv\")\n",
    "data.head()"
   ]
  },
  {
   "cell_type": "code",
   "execution_count": 115,
   "metadata": {},
   "outputs": [
    {
     "data": {
      "text/plain": [
       "Index(['Reported Date', 'Confirmed Negative', 'Presumptive Negative',\n",
       "       'Presumptive Positive', 'Confirmed Positive', 'Resolved', 'Deaths',\n",
       "       'Total Cases',\n",
       "       'Total patients approved for testing as of Reporting Date',\n",
       "       'Total tests completed in the last day',\n",
       "       'Percent positive tests in last day', 'Under Investigation',\n",
       "       'Number of patients hospitalized with COVID-19',\n",
       "       'Number of patients in ICU due to COVID-19',\n",
       "       'Number of patients in ICU, testing positive for COVID-19',\n",
       "       'Number of patients in ICU, testing negative for COVID-19',\n",
       "       'Number of patients in ICU on a ventilator due to COVID-19',\n",
       "       'Num. of patients in ICU on a ventilator testing positive',\n",
       "       'Num. of patients in ICU on a ventilator testing negative',\n",
       "       'Total Positive LTC Resident Cases', 'Total Positive LTC HCW Cases',\n",
       "       'Total LTC Resident Deaths', 'Total LTC HCW Deaths',\n",
       "       'Total_Lineage_B.1.1.7', 'Total_Lineage_B.1.351', 'Total_Lineage_P.1',\n",
       "       'Date'],\n",
       "      dtype='object')"
      ]
     },
     "execution_count": 115,
     "metadata": {},
     "output_type": "execute_result"
    }
   ],
   "source": [
    "#There are column names\n",
    "data.columns"
   ]
  },
  {
   "cell_type": "code",
   "execution_count": 116,
   "metadata": {},
   "outputs": [
    {
     "data": {
      "text/plain": [
       "Reported Date                                                 object\n",
       "Confirmed Negative                                           float64\n",
       "Presumptive Negative                                         float64\n",
       "Presumptive Positive                                         float64\n",
       "Confirmed Positive                                             int64\n",
       "Resolved                                                     float64\n",
       "Deaths                                                         int64\n",
       "Total Cases                                                    int64\n",
       "Total patients approved for testing as of Reporting Date     float64\n",
       "Total tests completed in the last day                        float64\n",
       "Percent positive tests in last day                           float64\n",
       "Under Investigation                                            int64\n",
       "Number of patients hospitalized with COVID-19                float64\n",
       "Number of patients in ICU due to COVID-19                    float64\n",
       "Number of patients in ICU, testing positive for COVID-19     float64\n",
       "Number of patients in ICU, testing negative for COVID-19     float64\n",
       "Number of patients in ICU on a ventilator due to COVID-19    float64\n",
       "Num. of patients in ICU on a ventilator testing positive     float64\n",
       "Num. of patients in ICU on a ventilator testing negative     float64\n",
       "Total Positive LTC Resident Cases                            float64\n",
       "Total Positive LTC HCW Cases                                 float64\n",
       "Total LTC Resident Deaths                                    float64\n",
       "Total LTC HCW Deaths                                         float64\n",
       "Total_Lineage_B.1.1.7                                        float64\n",
       "Total_Lineage_B.1.351                                        float64\n",
       "Total_Lineage_P.1                                            float64\n",
       "Date                                                           int64\n",
       "dtype: object"
      ]
     },
     "execution_count": 116,
     "metadata": {},
     "output_type": "execute_result"
    }
   ],
   "source": [
    "#Get the data type of each column\n",
    "data.dtypes"
   ]
  },
  {
   "cell_type": "markdown",
   "metadata": {},
   "source": [
    "### Part B"
   ]
  },
  {
   "cell_type": "markdown",
   "metadata": {},
   "source": [
    "**2. Clean up any data necessary.**"
   ]
  },
  {
   "cell_type": "markdown",
   "metadata": {},
   "source": [
    "In this dataset, there are many values which are not numbers (NaN). I need to clean all of them."
   ]
  },
  {
   "cell_type": "code",
   "execution_count": 117,
   "metadata": {},
   "outputs": [
    {
     "data": {
      "text/html": [
       "<div>\n",
       "<style scoped>\n",
       "    .dataframe tbody tr th:only-of-type {\n",
       "        vertical-align: middle;\n",
       "    }\n",
       "\n",
       "    .dataframe tbody tr th {\n",
       "        vertical-align: top;\n",
       "    }\n",
       "\n",
       "    .dataframe thead th {\n",
       "        text-align: right;\n",
       "    }\n",
       "</style>\n",
       "<table border=\"1\" class=\"dataframe\">\n",
       "  <thead>\n",
       "    <tr style=\"text-align: right;\">\n",
       "      <th></th>\n",
       "      <th>Reported Date</th>\n",
       "      <th>Confirmed Negative</th>\n",
       "      <th>Presumptive Negative</th>\n",
       "      <th>Presumptive Positive</th>\n",
       "      <th>Confirmed Positive</th>\n",
       "      <th>Resolved</th>\n",
       "      <th>Deaths</th>\n",
       "      <th>Total Cases</th>\n",
       "      <th>Total patients approved for testing as of Reporting Date</th>\n",
       "      <th>Total tests completed in the last day</th>\n",
       "      <th>...</th>\n",
       "      <th>Num. of patients in ICU on a ventilator testing positive</th>\n",
       "      <th>Num. of patients in ICU on a ventilator testing negative</th>\n",
       "      <th>Total Positive LTC Resident Cases</th>\n",
       "      <th>Total Positive LTC HCW Cases</th>\n",
       "      <th>Total LTC Resident Deaths</th>\n",
       "      <th>Total LTC HCW Deaths</th>\n",
       "      <th>Total_Lineage_B.1.1.7</th>\n",
       "      <th>Total_Lineage_B.1.351</th>\n",
       "      <th>Total_Lineage_P.1</th>\n",
       "      <th>Date</th>\n",
       "    </tr>\n",
       "  </thead>\n",
       "  <tbody>\n",
       "    <tr>\n",
       "      <th>0</th>\n",
       "      <td>2020/1/26</td>\n",
       "      <td>NaN</td>\n",
       "      <td>NaN</td>\n",
       "      <td>1.0</td>\n",
       "      <td>0</td>\n",
       "      <td>NaN</td>\n",
       "      <td>0</td>\n",
       "      <td>0</td>\n",
       "      <td>NaN</td>\n",
       "      <td>NaN</td>\n",
       "      <td>...</td>\n",
       "      <td>NaN</td>\n",
       "      <td>NaN</td>\n",
       "      <td>NaN</td>\n",
       "      <td>NaN</td>\n",
       "      <td>NaN</td>\n",
       "      <td>NaN</td>\n",
       "      <td>NaN</td>\n",
       "      <td>NaN</td>\n",
       "      <td>NaN</td>\n",
       "      <td>1</td>\n",
       "    </tr>\n",
       "    <tr>\n",
       "      <th>1</th>\n",
       "      <td>2020/1/27</td>\n",
       "      <td>NaN</td>\n",
       "      <td>NaN</td>\n",
       "      <td>2.0</td>\n",
       "      <td>0</td>\n",
       "      <td>NaN</td>\n",
       "      <td>0</td>\n",
       "      <td>0</td>\n",
       "      <td>NaN</td>\n",
       "      <td>NaN</td>\n",
       "      <td>...</td>\n",
       "      <td>NaN</td>\n",
       "      <td>NaN</td>\n",
       "      <td>NaN</td>\n",
       "      <td>NaN</td>\n",
       "      <td>NaN</td>\n",
       "      <td>NaN</td>\n",
       "      <td>NaN</td>\n",
       "      <td>NaN</td>\n",
       "      <td>NaN</td>\n",
       "      <td>2</td>\n",
       "    </tr>\n",
       "    <tr>\n",
       "      <th>2</th>\n",
       "      <td>2020/1/28</td>\n",
       "      <td>NaN</td>\n",
       "      <td>NaN</td>\n",
       "      <td>1.0</td>\n",
       "      <td>1</td>\n",
       "      <td>NaN</td>\n",
       "      <td>0</td>\n",
       "      <td>1</td>\n",
       "      <td>NaN</td>\n",
       "      <td>NaN</td>\n",
       "      <td>...</td>\n",
       "      <td>NaN</td>\n",
       "      <td>NaN</td>\n",
       "      <td>NaN</td>\n",
       "      <td>NaN</td>\n",
       "      <td>NaN</td>\n",
       "      <td>NaN</td>\n",
       "      <td>NaN</td>\n",
       "      <td>NaN</td>\n",
       "      <td>NaN</td>\n",
       "      <td>3</td>\n",
       "    </tr>\n",
       "    <tr>\n",
       "      <th>3</th>\n",
       "      <td>2020/1/30</td>\n",
       "      <td>NaN</td>\n",
       "      <td>NaN</td>\n",
       "      <td>0.0</td>\n",
       "      <td>2</td>\n",
       "      <td>NaN</td>\n",
       "      <td>0</td>\n",
       "      <td>2</td>\n",
       "      <td>NaN</td>\n",
       "      <td>NaN</td>\n",
       "      <td>...</td>\n",
       "      <td>NaN</td>\n",
       "      <td>NaN</td>\n",
       "      <td>NaN</td>\n",
       "      <td>NaN</td>\n",
       "      <td>NaN</td>\n",
       "      <td>NaN</td>\n",
       "      <td>NaN</td>\n",
       "      <td>NaN</td>\n",
       "      <td>NaN</td>\n",
       "      <td>4</td>\n",
       "    </tr>\n",
       "    <tr>\n",
       "      <th>4</th>\n",
       "      <td>2020/1/31</td>\n",
       "      <td>NaN</td>\n",
       "      <td>NaN</td>\n",
       "      <td>0.0</td>\n",
       "      <td>2</td>\n",
       "      <td>NaN</td>\n",
       "      <td>0</td>\n",
       "      <td>2</td>\n",
       "      <td>NaN</td>\n",
       "      <td>NaN</td>\n",
       "      <td>...</td>\n",
       "      <td>NaN</td>\n",
       "      <td>NaN</td>\n",
       "      <td>NaN</td>\n",
       "      <td>NaN</td>\n",
       "      <td>NaN</td>\n",
       "      <td>NaN</td>\n",
       "      <td>NaN</td>\n",
       "      <td>NaN</td>\n",
       "      <td>NaN</td>\n",
       "      <td>5</td>\n",
       "    </tr>\n",
       "    <tr>\n",
       "      <th>...</th>\n",
       "      <td>...</td>\n",
       "      <td>...</td>\n",
       "      <td>...</td>\n",
       "      <td>...</td>\n",
       "      <td>...</td>\n",
       "      <td>...</td>\n",
       "      <td>...</td>\n",
       "      <td>...</td>\n",
       "      <td>...</td>\n",
       "      <td>...</td>\n",
       "      <td>...</td>\n",
       "      <td>...</td>\n",
       "      <td>...</td>\n",
       "      <td>...</td>\n",
       "      <td>...</td>\n",
       "      <td>...</td>\n",
       "      <td>...</td>\n",
       "      <td>...</td>\n",
       "      <td>...</td>\n",
       "      <td>...</td>\n",
       "      <td>...</td>\n",
       "    </tr>\n",
       "    <tr>\n",
       "      <th>448</th>\n",
       "      <td>2021/4/29</td>\n",
       "      <td>NaN</td>\n",
       "      <td>NaN</td>\n",
       "      <td>NaN</td>\n",
       "      <td>38438</td>\n",
       "      <td>413010.0</td>\n",
       "      <td>8029</td>\n",
       "      <td>459477</td>\n",
       "      <td>14052764.0</td>\n",
       "      <td>56939.0</td>\n",
       "      <td>...</td>\n",
       "      <td>579.0</td>\n",
       "      <td>41.0</td>\n",
       "      <td>15137.0</td>\n",
       "      <td>6958.0</td>\n",
       "      <td>3918.0</td>\n",
       "      <td>10.0</td>\n",
       "      <td>62944.0</td>\n",
       "      <td>243.0</td>\n",
       "      <td>501.0</td>\n",
       "      <td>449</td>\n",
       "    </tr>\n",
       "    <tr>\n",
       "      <th>449</th>\n",
       "      <td>2021/4/30</td>\n",
       "      <td>NaN</td>\n",
       "      <td>NaN</td>\n",
       "      <td>NaN</td>\n",
       "      <td>38062</td>\n",
       "      <td>417252.0</td>\n",
       "      <td>8050</td>\n",
       "      <td>463364</td>\n",
       "      <td>14105838.0</td>\n",
       "      <td>53074.0</td>\n",
       "      <td>...</td>\n",
       "      <td>591.0</td>\n",
       "      <td>41.0</td>\n",
       "      <td>15141.0</td>\n",
       "      <td>6959.0</td>\n",
       "      <td>3918.0</td>\n",
       "      <td>10.0</td>\n",
       "      <td>65960.0</td>\n",
       "      <td>274.0</td>\n",
       "      <td>645.0</td>\n",
       "      <td>450</td>\n",
       "    </tr>\n",
       "    <tr>\n",
       "      <th>450</th>\n",
       "      <td>2021/5/1</td>\n",
       "      <td>NaN</td>\n",
       "      <td>NaN</td>\n",
       "      <td>NaN</td>\n",
       "      <td>37438</td>\n",
       "      <td>421216.0</td>\n",
       "      <td>8079</td>\n",
       "      <td>466733</td>\n",
       "      <td>14152641.0</td>\n",
       "      <td>46803.0</td>\n",
       "      <td>...</td>\n",
       "      <td>593.0</td>\n",
       "      <td>44.0</td>\n",
       "      <td>15151.0</td>\n",
       "      <td>6963.0</td>\n",
       "      <td>3918.0</td>\n",
       "      <td>10.0</td>\n",
       "      <td>69442.0</td>\n",
       "      <td>281.0</td>\n",
       "      <td>772.0</td>\n",
       "      <td>451</td>\n",
       "    </tr>\n",
       "    <tr>\n",
       "      <th>451</th>\n",
       "      <td>2021/5/2</td>\n",
       "      <td>NaN</td>\n",
       "      <td>NaN</td>\n",
       "      <td>NaN</td>\n",
       "      <td>37200</td>\n",
       "      <td>425163.0</td>\n",
       "      <td>8102</td>\n",
       "      <td>470465</td>\n",
       "      <td>14197942.0</td>\n",
       "      <td>45301.0</td>\n",
       "      <td>...</td>\n",
       "      <td>577.0</td>\n",
       "      <td>38.0</td>\n",
       "      <td>15157.0</td>\n",
       "      <td>6967.0</td>\n",
       "      <td>3918.0</td>\n",
       "      <td>10.0</td>\n",
       "      <td>72313.0</td>\n",
       "      <td>291.0</td>\n",
       "      <td>875.0</td>\n",
       "      <td>452</td>\n",
       "    </tr>\n",
       "    <tr>\n",
       "      <th>452</th>\n",
       "      <td>2021/5/3</td>\n",
       "      <td>NaN</td>\n",
       "      <td>NaN</td>\n",
       "      <td>NaN</td>\n",
       "      <td>36997</td>\n",
       "      <td>428786.0</td>\n",
       "      <td>8118</td>\n",
       "      <td>473901</td>\n",
       "      <td>14231121.0</td>\n",
       "      <td>33179.0</td>\n",
       "      <td>...</td>\n",
       "      <td>570.0</td>\n",
       "      <td>41.0</td>\n",
       "      <td>15169.0</td>\n",
       "      <td>6969.0</td>\n",
       "      <td>3919.0</td>\n",
       "      <td>10.0</td>\n",
       "      <td>75346.0</td>\n",
       "      <td>301.0</td>\n",
       "      <td>920.0</td>\n",
       "      <td>453</td>\n",
       "    </tr>\n",
       "  </tbody>\n",
       "</table>\n",
       "<p>453 rows × 27 columns</p>\n",
       "</div>"
      ],
      "text/plain": [
       "    Reported Date  Confirmed Negative  Presumptive Negative  \\\n",
       "0       2020/1/26                 NaN                   NaN   \n",
       "1       2020/1/27                 NaN                   NaN   \n",
       "2       2020/1/28                 NaN                   NaN   \n",
       "3       2020/1/30                 NaN                   NaN   \n",
       "4       2020/1/31                 NaN                   NaN   \n",
       "..            ...                 ...                   ...   \n",
       "448     2021/4/29                 NaN                   NaN   \n",
       "449     2021/4/30                 NaN                   NaN   \n",
       "450      2021/5/1                 NaN                   NaN   \n",
       "451      2021/5/2                 NaN                   NaN   \n",
       "452      2021/5/3                 NaN                   NaN   \n",
       "\n",
       "     Presumptive Positive  Confirmed Positive  Resolved  Deaths  Total Cases  \\\n",
       "0                     1.0                   0       NaN       0            0   \n",
       "1                     2.0                   0       NaN       0            0   \n",
       "2                     1.0                   1       NaN       0            1   \n",
       "3                     0.0                   2       NaN       0            2   \n",
       "4                     0.0                   2       NaN       0            2   \n",
       "..                    ...                 ...       ...     ...          ...   \n",
       "448                   NaN               38438  413010.0    8029       459477   \n",
       "449                   NaN               38062  417252.0    8050       463364   \n",
       "450                   NaN               37438  421216.0    8079       466733   \n",
       "451                   NaN               37200  425163.0    8102       470465   \n",
       "452                   NaN               36997  428786.0    8118       473901   \n",
       "\n",
       "     Total patients approved for testing as of Reporting Date  \\\n",
       "0                                                  NaN          \n",
       "1                                                  NaN          \n",
       "2                                                  NaN          \n",
       "3                                                  NaN          \n",
       "4                                                  NaN          \n",
       "..                                                 ...          \n",
       "448                                         14052764.0          \n",
       "449                                         14105838.0          \n",
       "450                                         14152641.0          \n",
       "451                                         14197942.0          \n",
       "452                                         14231121.0          \n",
       "\n",
       "     Total tests completed in the last day  ...  \\\n",
       "0                                      NaN  ...   \n",
       "1                                      NaN  ...   \n",
       "2                                      NaN  ...   \n",
       "3                                      NaN  ...   \n",
       "4                                      NaN  ...   \n",
       "..                                     ...  ...   \n",
       "448                                56939.0  ...   \n",
       "449                                53074.0  ...   \n",
       "450                                46803.0  ...   \n",
       "451                                45301.0  ...   \n",
       "452                                33179.0  ...   \n",
       "\n",
       "     Num. of patients in ICU on a ventilator testing positive  \\\n",
       "0                                                  NaN          \n",
       "1                                                  NaN          \n",
       "2                                                  NaN          \n",
       "3                                                  NaN          \n",
       "4                                                  NaN          \n",
       "..                                                 ...          \n",
       "448                                              579.0          \n",
       "449                                              591.0          \n",
       "450                                              593.0          \n",
       "451                                              577.0          \n",
       "452                                              570.0          \n",
       "\n",
       "     Num. of patients in ICU on a ventilator testing negative  \\\n",
       "0                                                  NaN          \n",
       "1                                                  NaN          \n",
       "2                                                  NaN          \n",
       "3                                                  NaN          \n",
       "4                                                  NaN          \n",
       "..                                                 ...          \n",
       "448                                               41.0          \n",
       "449                                               41.0          \n",
       "450                                               44.0          \n",
       "451                                               38.0          \n",
       "452                                               41.0          \n",
       "\n",
       "     Total Positive LTC Resident Cases  Total Positive LTC HCW Cases  \\\n",
       "0                                  NaN                           NaN   \n",
       "1                                  NaN                           NaN   \n",
       "2                                  NaN                           NaN   \n",
       "3                                  NaN                           NaN   \n",
       "4                                  NaN                           NaN   \n",
       "..                                 ...                           ...   \n",
       "448                            15137.0                        6958.0   \n",
       "449                            15141.0                        6959.0   \n",
       "450                            15151.0                        6963.0   \n",
       "451                            15157.0                        6967.0   \n",
       "452                            15169.0                        6969.0   \n",
       "\n",
       "     Total LTC Resident Deaths  Total LTC HCW Deaths  Total_Lineage_B.1.1.7  \\\n",
       "0                          NaN                   NaN                    NaN   \n",
       "1                          NaN                   NaN                    NaN   \n",
       "2                          NaN                   NaN                    NaN   \n",
       "3                          NaN                   NaN                    NaN   \n",
       "4                          NaN                   NaN                    NaN   \n",
       "..                         ...                   ...                    ...   \n",
       "448                     3918.0                  10.0                62944.0   \n",
       "449                     3918.0                  10.0                65960.0   \n",
       "450                     3918.0                  10.0                69442.0   \n",
       "451                     3918.0                  10.0                72313.0   \n",
       "452                     3919.0                  10.0                75346.0   \n",
       "\n",
       "     Total_Lineage_B.1.351  Total_Lineage_P.1  Date  \n",
       "0                      NaN                NaN     1  \n",
       "1                      NaN                NaN     2  \n",
       "2                      NaN                NaN     3  \n",
       "3                      NaN                NaN     4  \n",
       "4                      NaN                NaN     5  \n",
       "..                     ...                ...   ...  \n",
       "448                  243.0              501.0   449  \n",
       "449                  274.0              645.0   450  \n",
       "450                  281.0              772.0   451  \n",
       "451                  291.0              875.0   452  \n",
       "452                  301.0              920.0   453  \n",
       "\n",
       "[453 rows x 27 columns]"
      ]
     },
     "execution_count": 117,
     "metadata": {},
     "output_type": "execute_result"
    }
   ],
   "source": [
    "# Drop those awful subsets!\n",
    "data.dropna(subset=['Confirmed Positive', 'Deaths', 'Total Cases'])"
   ]
  },
  {
   "cell_type": "markdown",
   "metadata": {},
   "source": [
    "## Part C"
   ]
  },
  {
   "cell_type": "markdown",
   "metadata": {},
   "source": [
    "**3. Create plots that help explain the data.**"
   ]
  },
  {
   "cell_type": "markdown",
   "metadata": {},
   "source": [
    "I. Line Chart of Day and Total Case"
   ]
  },
  {
   "cell_type": "code",
   "execution_count": 118,
   "metadata": {},
   "outputs": [
    {
     "data": {
      "image/png": "[encoded data removed]",
      "text/plain": [
       "<Figure size 432x288 with 1 Axes>"
      ]
     },
     "metadata": {
      "needs_background": "light"
     },
     "output_type": "display_data"
    }
   ],
   "source": [
    "#Line Chart\n",
    "data[[\"Total Cases\"]].plot()\n",
    "plt.grid(True)\n",
    "plt.xlabel('Day')\n",
    "plt.ylabel('Case in Canada')\n",
    "plt.show()"
   ]
  },
  {
   "cell_type": "markdown",
   "metadata": {},
   "source": [
    "**Plot Explanation:**\n",
    "It can be seen from this line chart that total COVID-19 cases in Canada almost completely fit the exponential growth, and the current growth rate is very high."
   ]
  },
  {
   "cell_type": "markdown",
   "metadata": {},
   "source": [
    "**Code Explanation:**\n",
    "Firstly, I set the databases of Total cases as independent variables and state the grid as ture. Secondly, I input the title, x-axis label as \"Day\" and y-axis label as \"Case in Canada\". In the end, I print this line chart out."
   ]
  },
  {
   "cell_type": "markdown",
   "metadata": {},
   "source": [
    "II. Line Chart of Day and Confirmed Positive and Deaths"
   ]
  },
  {
   "cell_type": "code",
   "execution_count": 119,
   "metadata": {},
   "outputs": [
    {
     "data": {
      "image/png": "[encoded data removed]",
      "text/plain": [
       "<Figure size 432x288 with 1 Axes>"
      ]
     },
     "metadata": {
      "needs_background": "light"
     },
     "output_type": "display_data"
    }
   ],
   "source": [
    "#Line Chart\n",
    "data[[\"Confirmed Positive\",\"Deaths\"]].plot()\n",
    "plt.grid(True)\n",
    "plt.xlabel('Day')\n",
    "plt.ylabel('Case in Canada')\n",
    "plt.show()"
   ]
  },
  {
   "cell_type": "markdown",
   "metadata": {},
   "source": [
    "**Plot Explanation:**\n",
    "It can be seen from this line chart that the cumulative number of confirmed COVID-19 cases in Canada has experienced three relatively large ups and downs but is still close to exponential growth, while the cumulative proportion of COVID-19 deaths in Canada has been increasing linearly."
   ]
  },
  {
   "cell_type": "markdown",
   "metadata": {},
   "source": [
    "**Code Explanation:**\n",
    "Firstly, I set the databases of Confirmed Positive and Death cases as independent variables and state the grid as ture. Secondly, I input the title, x-axis label as \"Day\" and y-axis label as \"Case in Canada\". In the end, I print this line chart out."
   ]
  },
  {
   "cell_type": "markdown",
   "metadata": {},
   "source": [
    "III. Scatter Plot of Total patients approved for testing as of Reporting Date and Resolved"
   ]
  },
  {
   "cell_type": "code",
   "execution_count": 120,
   "metadata": {},
   "outputs": [
    {
     "data": {
      "image/png": "[encoded data removed]",
      "text/plain": [
       "<Figure size 432x288 with 1 Axes>"
      ]
     },
     "metadata": {
      "needs_background": "light"
     },
     "output_type": "display_data"
    }
   ],
   "source": [
    "#Scatter Plot \n",
    "plt.scatter(data['Total patients approved for testing as of Reporting Date'], data['Resolved'])\n",
    "plt.show()"
   ]
  },
  {
   "cell_type": "markdown",
   "metadata": {},
   "source": [
    "**Plot Explanation:**\n",
    "The scatter plot shows the potential relationship between one independent variable and one dependent variable. In this case, it is really obvious to identify a clear relationship between the number of total patients approved for testing and the resolved cases. From my perspective, the number of total patients approved for testing is a significant value for stopping COVID-19 spread."
   ]
  },
  {
   "cell_type": "markdown",
   "metadata": {},
   "source": [
    "**Code Explanation:**\n",
    "Firstly, I set the databases of Total patients approved for testing as of Reporting Date and Resolved cases as independent variable and dependent variable. Secondly, I input the title, x-axis label and y-axis label. In the end, I print it out."
   ]
  },
  {
   "cell_type": "markdown",
   "metadata": {},
   "source": [
    "IV. The Pie Chart of Positive, Resolved and Death on May 3rd"
   ]
  },
  {
   "cell_type": "code",
   "execution_count": 121,
   "metadata": {},
   "outputs": [
    {
     "data": {
      "image/png": "[encoded data removed]",
      "text/plain": [
       "<Figure size 432x288 with 1 Axes>"
      ]
     },
     "metadata": {},
     "output_type": "display_data"
    }
   ],
   "source": [
    "#Pie Chart\n",
    "labels = 'Positive', 'Resolved', 'Deaths'\n",
    "P = data['Confirmed Positive'][452]\n",
    "R = data['Resolved'][452]\n",
    "D = data['Deaths'][452]\n",
    "sizes = [P,R,D]\n",
    "colors = ['yellow','green','red']\n",
    "explode = (0.1, 0, 0)\n",
    "\n",
    "##Show\n",
    "plt.pie(sizes, explode=explode, labels=labels, colors=colors, autopct='%1.1f%%', shadow=True, startangle=140)\n",
    "plt.axis('equal')\n",
    "plt.show()"
   ]
  },
  {
   "cell_type": "markdown",
   "metadata": {},
   "source": [
    "**Plot Explanation:**\n",
    "This pie chart shows that although about 90% of COVID-19 cases in Canada have recovered on May 3rd, 8% of confirmed positive cases are still active in Canada. We still need to focus on how to stop the COVID-19 spread and remember it is not the end."
   ]
  },
  {
   "cell_type": "markdown",
   "metadata": {},
   "source": [
    "**Code Explanation:**\n",
    "In order to calculate and state the percentage of these three values clearly, I choose pie chart. At the begining, I read the numbers of positive, resolved and death cases on May 3rd. After that, I call the function plt.pie with various colors and set the axis to 'equal'. Exploding the first slice is necessary because it notice the reader where to begin with."
   ]
  },
  {
   "cell_type": "markdown",
   "metadata": {},
   "source": [
    "V. The Bar Graph of Total Cases per month in 2021"
   ]
  },
  {
   "cell_type": "code",
   "execution_count": 122,
   "metadata": {},
   "outputs": [
    {
     "data": {
      "image/png": "[encoded data removed]",
      "text/plain": [
       "<Figure size 432x288 with 1 Axes>"
      ]
     },
     "metadata": {
      "needs_background": "light"
     },
     "output_type": "display_data"
    }
   ],
   "source": [
    "#Bar Graph\n",
    "Jan = data['Total Cases'][363] - data['Total Cases'][332]\n",
    "Feb = data['Total Cases'][391] - data['Total Cases'][363]\n",
    "Mar = data['Total Cases'][422] - data['Total Cases'][391]\n",
    "Apr = data['Total Cases'][452] - data['Total Cases'][422]\n",
    "year = [Jan,Feb,Mar,Apr]\n",
    "\n",
    "##Split every number of passengers into each class and print out\n",
    "index = ['January', 'February', 'March','April']\n",
    "df = pd.DataFrame({'Total Cases Per Month In 2021': year}, index=index)\n",
    "ax = df.plot.bar(rot=0)"
   ]
  },
  {
   "cell_type": "markdown",
   "metadata": {},
   "source": [
    "**Plot Explanation:**\n",
    "This bar graph compares the total cases in each month in 2021 before May 1st. We can see that April is the month that has the highest number of cases in 2021 and February is the month that has the lowest number of cases in 2021. From my perspective, there is a rebound trend in April and May. We still need to pay attention in COVID-19."
   ]
  },
  {
   "cell_type": "markdown",
   "metadata": {},
   "source": [
    "**Code Explanation:**\n",
    "In order to compare all of the total cases numbers directly in 2021, I choose bar graph and put the number per month in the same index. The call sentences are the key of this plot for finding four values. After that, I call the DataFrame.plot.bar function to create this plot and set the rot as zero."
   ]
  },
  {
   "cell_type": "markdown",
   "metadata": {},
   "source": [
    "## The Curve Prediction Algorithms edited by Alex Chen"
   ]
  },
  {
   "cell_type": "markdown",
   "metadata": {},
   "source": [
    "### Part A"
   ]
  },
  {
   "cell_type": "markdown",
   "metadata": {},
   "source": [
    "**Fix up my explorator analysis if necessary and change categorical data into numerical values.**"
   ]
  },
  {
   "cell_type": "markdown",
   "metadata": {},
   "source": [
    "All values in this database is numerical values so there is no need to do this step."
   ]
  },
  {
   "cell_type": "markdown",
   "metadata": {},
   "source": [
    "### Part B"
   ]
  },
  {
   "cell_type": "markdown",
   "metadata": {},
   "source": [
    "**I. Run all algorithms at least once.**\n",
    "\n",
    "**II. Summarize the results from each algorithm.**"
   ]
  },
  {
   "cell_type": "markdown",
   "metadata": {},
   "source": [
    "Firstly, we load the dataset into x variable and Y variable for buliding our own models. This code is to use **The Least Squares Regression Method** to fit the data after setting the function."
   ]
  },
  {
   "cell_type": "code",
   "execution_count": 123,
   "metadata": {},
   "outputs": [
    {
     "name": "stdout",
     "output_type": "stream",
     "text": [
      "Coefficients\n",
      "902.1954038686898 -85806.67897399834\n"
     ]
    },
    {
     "data": {
      "image/png": "[encoded data removed]",
      "text/plain": [
       "<Figure size 432x288 with 1 Axes>"
      ]
     },
     "metadata": {
      "needs_background": "light"
     },
     "output_type": "display_data"
    }
   ],
   "source": [
    "# Coomputing X and Y\n",
    "X = data['Date'].values\n",
    "Y = data['Total Cases'].values\n",
    "\n",
    "# Mean X and Y\n",
    "mean_x = np.mean(X)\n",
    "mean_y = np.mean(Y)\n",
    " \n",
    "# Total number of values\n",
    "n = len(X)\n",
    "\n",
    "# Using the formula to calculate 'm' and 'c'\n",
    "numer = 0\n",
    "denom = 0\n",
    "for i in range(n):\n",
    "    numer += (X[i] - mean_x) * (Y[i] - mean_y)\n",
    "    denom += (X[i] - mean_x) ** 2\n",
    "m = numer / denom\n",
    "c = mean_y - (m * mean_x)\n",
    " \n",
    "# Printing coefficients\n",
    "print(\"Coefficients\")\n",
    "print(m, c)\n",
    "\n",
    "# Plotting Values and Regression Line\n",
    " \n",
    "max_x = np.max(X) + 100\n",
    "min_x = np.min(X) - 100\n",
    " \n",
    "# Calculating line values x and y\n",
    "x = np.linspace(min_x, max_x, 1000)\n",
    "y = c + m * x\n",
    " \n",
    "# Ploting Line\n",
    "plt.plot(x, y, color='#58b970', label='Regression Line')\n",
    "# Ploting Scatter Points\n",
    "plt.scatter(X, Y, c='#ef5423', label='Scatter Plot')\n",
    " \n",
    "plt.xlabel('Date')\n",
    "plt.ylabel('COVID-19 Total Cases in Canada')\n",
    "plt.legend()\n",
    "plt.show()"
   ]
  },
  {
   "cell_type": "markdown",
   "metadata": {},
   "source": [
    "**Summary**\n",
    "\n",
    "The least squares method is a statistical procedure to find the best fit for a set of data points by minimizing the sum of the offsets or residuals of points from the plotted curve. Least squares regression is used to predict the behavior of dependent variables. In this case, the linear relationship between the date of pandemic and the total COVID-19 cases in Canada is the target of this method. We can see that the true curve can not fit the linear line well so the least squares method is just the first step of out prediction."
   ]
  },
  {
   "cell_type": "markdown",
   "metadata": {},
   "source": [
    "Since the result is not so reasonable for predicting the future cases. I will use the ture **Curve Fit Method** to solve this problem."
   ]
  },
  {
   "cell_type": "code",
   "execution_count": 124,
   "metadata": {},
   "outputs": [
    {
     "data": {
      "image/png": "[encoded data removed]",
      "text/plain": [
       "<Figure size 432x288 with 1 Axes>"
      ]
     },
     "metadata": {
      "needs_background": "light"
     },
     "output_type": "display_data"
    }
   ],
   "source": [
    "import matplotlib.pyplot as plt\n",
    "import numpy as np\n",
    "from scipy.optimize import curve_fit\n",
    "\n",
    "# Define the curve fit function\n",
    "def func(x, a, b, c):\n",
    "    return a * np.exp(-b * x) + c\n",
    "\n",
    "# Read in x and y data\n",
    "xdata = data['Date']\n",
    "ydata = data['Total Cases']\n",
    "\n",
    "# Print out what we get so far\n",
    "popt, pcov = curve_fit(func, xdata, ydata, bounds=([-np.inf, -1, -np.inf], [np.inf, 1, np.inf]))\n",
    "xs = np.linspace(0, 452, 100)\n",
    "plt.plot(xs, func(xs, *popt), color='#58b970', label='Regression Line')\n",
    "plt.scatter(xdata, ydata, c='#ef5423', label='Scatter Plot')\n",
    "plt.xlabel('Date')\n",
    "plt.ylabel('COVID-19 Total Cases in Canada')\n",
    "plt.legend()\n",
    "plt.show()"
   ]
  },
  {
   "cell_type": "markdown",
   "metadata": {},
   "source": [
    "**Summary**\n",
    "\n",
    "In regression analysis, curve fitting is the process of specifying the model that provides the best fit to the specific curves in your dataset. Curved relationships between variables are not as straightforward to fit and interpret as linear relationships. In this case, the curve fits the scatter plot very well. It is a very reasonable math model to predict the future total COVID-19 cases in the future even at different time point. \n",
    "\n",
    "**PS!!!**\n",
    "\n",
    "When we use this kind of method, we really need to pay attention of its bounds. If we set the lowest bound too big or set the highest bound too small, the model will quickly reaches overflow. We can avoid the overflow with adding bounds on b. Note that we only get a warning, and that the result of curve_fit isn't affected. But we still want to find the best curve fit out so that is why I choose -1 and 1 as my lowest and highest bounds in the end."
   ]
  },
  {
   "cell_type": "markdown",
   "metadata": {},
   "source": [
    "### Part C"
   ]
  },
  {
   "cell_type": "markdown",
   "metadata": {},
   "source": [
    "**I. Run the curve fit algorithm in their optimal states for each important time points.**\n",
    "\n",
    "**II. Summarize the results and make conclusions based on the results and make suggestions.**"
   ]
  },
  {
   "cell_type": "markdown",
   "metadata": {},
   "source": [
    "I. Predict the number of total cases in Canada on 2021/06/01"
   ]
  },
  {
   "cell_type": "code",
   "execution_count": 125,
   "metadata": {},
   "outputs": [
    {
     "data": {
      "image/png": "[encoded data removed]",
      "text/plain": [
       "<Figure size 432x288 with 1 Axes>"
      ]
     },
     "metadata": {
      "needs_background": "light"
     },
     "output_type": "display_data"
    },
    {
     "name": "stdout",
     "output_type": "stream",
     "text": [
      "Exact number\n",
      "609011.301366295\n"
     ]
    }
   ],
   "source": [
    "# Day 2021/06/01\n",
    "import matplotlib.pyplot as plt\n",
    "import numpy as np\n",
    "from scipy.optimize import curve_fit\n",
    "\n",
    "# Define the curve fit function\n",
    "def func(x, a, b, c):\n",
    "    return a * np.exp(-b * x) + c\n",
    "\n",
    "# Read in x and y data\n",
    "xdata = data['Date']\n",
    "ydata = data['Total Cases']\n",
    "\n",
    "# Print out what we get so far\n",
    "popt, pcov = curve_fit(func, xdata, ydata, bounds=([-np.inf, -1, -np.inf], [np.inf, 1, np.inf]))\n",
    "\n",
    "# The date number of 2021/05/01 is 451, so plus 31 to get the date number of 2021/06/01\n",
    "xs = np.linspace(0, 482, 100)\n",
    "plt.plot(xs, func(xs, *popt), color='#58b970', label='Regression Line')\n",
    "plt.xlabel('Date')\n",
    "plt.ylabel('COVID-19 Total Cases in Canada')\n",
    "plt.legend()\n",
    "plt.show()\n",
    "\n",
    "# Print the exact number\n",
    "print(\"Exact number\")\n",
    "print(func(482,*popt))"
   ]
  },
  {
   "cell_type": "markdown",
   "metadata": {},
   "source": [
    "**Summary**\n",
    "\n",
    "Form my best curve fit model, we know that the number of total COVID-19 cases is approximately 609,011 on 2021/06/01. Divided by the Canadian population in 2020 which is 37,742,154 people, the COVID-19 infection rate in Canada is 1.5%. What's more, it seems speed up its increasing rate on 2021/06/01."
   ]
  },
  {
   "cell_type": "markdown",
   "metadata": {},
   "source": [
    "II. Predict the number of total cases in Canada on 2021/09/01"
   ]
  },
  {
   "cell_type": "code",
   "execution_count": 126,
   "metadata": {},
   "outputs": [
    {
     "data": {
      "image/png": "[encoded data removed]",
      "text/plain": [
       "<Figure size 432x288 with 1 Axes>"
      ]
     },
     "metadata": {
      "needs_background": "light"
     },
     "output_type": "display_data"
    },
    {
     "name": "stdout",
     "output_type": "stream",
     "text": [
      "Exact number\n",
      "1273934.8856654281\n"
     ]
    }
   ],
   "source": [
    "# Day 2021/09/01\n",
    "import matplotlib.pyplot as plt\n",
    "import numpy as np\n",
    "from scipy.optimize import curve_fit\n",
    "\n",
    "# Define the curve fit function\n",
    "def func(x, a, b, c):\n",
    "    return a * np.exp(-b * x) + c\n",
    "\n",
    "# Read in x and y data\n",
    "xdata = data['Date']\n",
    "ydata = data['Total Cases']\n",
    "\n",
    "# Print out what we get so far\n",
    "popt, pcov = curve_fit(func, xdata, ydata, bounds=([-np.inf, -1, -np.inf], [np.inf, 1, np.inf]))\n",
    "\n",
    "# The date number of 2021/06/01 is 482, so plus 93 to get the date number of 2021/09/01\n",
    "xs = np.linspace(0, 575, 100)\n",
    "plt.plot(xs, func(xs, *popt), color='red', label='Regression Line')\n",
    "plt.xlabel('Date')\n",
    "plt.ylabel('COVID-19 Total Cases in Canada')\n",
    "plt.legend()\n",
    "plt.show()\n",
    "\n",
    "# Print the exact number\n",
    "print(\"Exact number\")\n",
    "print(func(575,*popt))"
   ]
  },
  {
   "cell_type": "markdown",
   "metadata": {},
   "source": [
    "**Summary**\n",
    "\n",
    "Form my best curve fit model, we know that the number of total COVID-19 cases is approximately 1,273,935 on 2021/09/01 which is twice as the number on 2021/06/01. Divided by the Canadian population in 2020 which is 37,742,154 people, the COVID-19 infection rate in Canada is 3.0%."
   ]
  },
  {
   "cell_type": "markdown",
   "metadata": {},
   "source": [
    "III. The SIR Epidemic Model (Introduction)"
   ]
  },
  {
   "cell_type": "code",
   "execution_count": 127,
   "metadata": {},
   "outputs": [
    {
     "data": {
      "image/png": "[encoded data removed]",
      "text/plain": [
       "<Figure size 432x288 with 1 Axes>"
      ]
     },
     "metadata": {},
     "output_type": "display_data"
    }
   ],
   "source": [
    "import numpy as np\n",
    "from scipy.integrate import odeint\n",
    "import matplotlib.pyplot as plt\n",
    "\n",
    "# Total population as N in Canada\n",
    "N = 37742154\n",
    "# Initial number of infected and recovered individuals as I0 and R0\n",
    "I0, R0 = 1, 0\n",
    "# Everyone else as S0 which is susceptible to infection initially\n",
    "S0 = N - I0 - R0\n",
    "# Contact rate, beta, and mean recovery rate and gamma\n",
    "beta, gamma = 0.2, 1./10 \n",
    "# A grid of time points\n",
    "t = np.linspace(0, 452, 452)\n",
    "\n",
    "# The SIR model differential equations\n",
    "def deriv(y, t, N, beta, gamma):\n",
    "    S, I, R = y\n",
    "    dSdt = -beta * S * I / N\n",
    "    dIdt = beta * S * I / N - gamma * I\n",
    "    dRdt = gamma * I\n",
    "    return dSdt, dIdt, dRdt\n",
    "\n",
    "# Initial conditions vector\n",
    "y0 = S0, I0, R0\n",
    "# Integrate the SIR equations over the time grid as t\n",
    "ret = odeint(deriv, y0, t, args=(N, beta, gamma))\n",
    "S, I, R = ret.T\n",
    "\n",
    "# Plot the data on three separate curves for S(t), I(t) and R(t)\n",
    "fig = plt.figure(facecolor='w')\n",
    "ax = fig.add_subplot(111, facecolor='#dddddd', axisbelow=True)\n",
    "ax.plot(t, S/1000000, 'b', alpha=0.5, lw=2, label='Susceptible')\n",
    "ax.plot(t, I/1000000, 'r', alpha=0.5, lw=2, label='Infected')\n",
    "ax.plot(t, R/1000000, 'g', alpha=0.5, lw=2, label='Recovered with immunity')\n",
    "ax.set_xlabel('Time /days')\n",
    "ax.set_ylabel('Number (1000000s)')\n",
    "ax.set_ylim(0,1.2)\n",
    "ax.yaxis.set_tick_params(length=0)\n",
    "ax.xaxis.set_tick_params(length=0)\n",
    "ax.grid(b=True, which='major', c='w', lw=2, ls='-')\n",
    "legend = ax.legend()\n",
    "legend.get_frame().set_alpha(0.7)\n",
    "for spine in ('top', 'right', 'bottom', 'left'):\n",
    "    ax.spines[spine].set_visible(False)\n",
    "plt.show()"
   ]
  },
  {
   "cell_type": "markdown",
   "metadata": {},
   "source": [
    "**Summary**\n",
    "\n",
    "The SIR model is a communication model and an abstract description of the information dissemination process. It is the most classic model among infectious disease models, where S represents susceptible persons, I represents infected persons, and R represents removed persons.\n",
    "\n",
    "In this case, plugging all data from our dataset into this model, we can see the susceptible, infected and recovered prediction curves very clearly. The predict number of cases on day 100 is very close to our target (real data) which is 21,581. However, the prediction after 100 days increase too fast compared with curve fit model prediction so it is not perfect yet. One thing we should know when we use it is be careful about the classification of SIR model.\n",
    "\n",
    "The model's classification of the population is not detailed enough, and it does not explicitly consider the factors of isolation. In reality, the isolation of suspected patients is an effective means to control the spread of the epidemic. The model does not introduce a feedback mechanism. In the prediction process, simply predicting data for a long period of time in the future based on existing data will inevitably reduce the accuracy. In addition, the differential equations are difficult to solve and sensitive to initial values, which has a great influence on the robustness of the model."
   ]
  },
  {
   "cell_type": "markdown",
   "metadata": {},
   "source": [
    "**Conclusion**\n",
    "\n",
    "Nowadays, COVID-19 has become a topic of most concern to people, and many professionals have different opinions on the prediction of this pandemic. This article is based on two simple models to predict and analyze the data of this pandemic. Of course, the results are for reference only. From the results in the article, if we do not adopt any new and effective policies for the current pandemic, this virus will spread to the whole of Canada on an exponentially increasing scale. By that time it will be very difficult to want to do something."
   ]
  },
  {
   "cell_type": "markdown",
   "metadata": {},
   "source": [
    "**Suggestion**\n",
    "\n",
    "Health management departments should focus their efforts on strategies to help high-risk groups, rather than imposing comprehensive restrictions on everyone. \n",
    "\n",
    "Full implementation of the vaccination policy. \n",
    "\n",
    "Continue to track the development of the pandemic using technical means such as machine learning"
   ]
  },
  {
   "cell_type": "markdown",
   "metadata": {},
   "source": [
    "### That is the end of my Prediction Algorithms Assignment. Thanks for reading!"
   ]
  },
  {
   "cell_type": "markdown",
   "metadata": {},
   "source": [
    "## Alex Chen\n",
    "## Ms. Postma\n",
    "## ICS4U-01\n",
    "## 2021/05/20"
   ]
  }
 ],
 "metadata": {
  "kernelspec": {
   "display_name": "Python 3",
   "language": "python",
   "name": "python3"
  },
  "language_info": {
   "codemirror_mode": {
    "name": "ipython",
    "version": 3
   },
   "file_extension": ".py",
   "mimetype": "text/x-python",
   "name": "python",
   "nbconvert_exporter": "python",
   "pygments_lexer": "ipython3",
   "version": "3.8.5"
  }
 },
 "nbformat": 4,
 "nbformat_minor": 4
}
